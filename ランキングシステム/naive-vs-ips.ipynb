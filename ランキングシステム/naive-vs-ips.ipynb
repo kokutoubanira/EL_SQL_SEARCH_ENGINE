{
 "cells": [
  {
   "cell_type": "code",
   "execution_count": null,
   "metadata": {},
   "outputs": [],
   "source": [
    "import matplotlib.pyplot as plt\n",
    "plt.style.use('ggplot')\n",
    "import numpy as np\n",
    "import torch\n",
    "from torch.optim import Adam\n",
    "from pytorchltr.datasets import MSLR30K\n",
    "\n",
    "from model import MLPScoreFunc\n",
    "from train import train_ranker"
   ]
  },
  {
   "cell_type": "code",
   "execution_count": null,
   "metadata": {},
   "outputs": [],
   "source": [
    "\n",
    "# 実験設定\n",
    "batch_size = 32\n",
    "hidden_layer_sizes = (10,10)\n",
    "learning_rate = 0.0001\n",
    "n_epochs = 200"
   ]
  },
  {
   "cell_type": "code",
   "execution_count": null,
   "metadata": {},
   "outputs": [],
   "source": [
    "# MSLR30Kデータセットを読み込む（初回だけ時間がかかる）\n",
    "train = MSLR30K(split=\"train\")\n",
    "test = MSLR30K(split=\"test\")"
   ]
  },
  {
   "cell_type": "code",
   "execution_count": null,
   "metadata": {},
   "outputs": [],
   "source": [
    "torch.manual_seed(12345)\n",
    "score_fn = MLPScoreFunc(\n",
    "    input_size=train[0].features.shape[1],\n",
    "    hidden_layer_sizes=hidden_layer_sizes,\n",
    ")\n",
    "optimizer = Adam(score_fn.parameters(), lr=learning_rate)\n",
    "\n",
    "ndcg_score_list_naive = train_ranker(\n",
    "    score_fn=score_fn,\n",
    "    optimizer=optimizer, \n",
    "    estimator=\"naive\",\n",
    "    objective=\"via-rec\",\n",
    "    train=train,\n",
    "    test=test,\n",
    "    batch_size=batch_size,\n",
    "    n_epochs=n_epochs,\n",
    ")"
   ]
  },
  {
   "cell_type": "code",
   "execution_count": null,
   "metadata": {},
   "outputs": [],
   "source": [
    "torch.manual_seed(12345)\n",
    "score_fn = MLPScoreFunc(\n",
    "    input_size=train[0].features.shape[1],\n",
    "    hidden_layer_sizes=hidden_layer_sizes,\n",
    ")\n",
    "optimizer = Adam(score_fn.parameters(), lr=learning_rate)\n",
    "\n",
    "ndcg_score_list_ips = train_ranker(\n",
    "    score_fn=score_fn,\n",
    "    optimizer=optimizer,\n",
    "    estimator=\"ips-via-rec\",\n",
    "    objective=\"via-rec\",\n",
    "    train=train,\n",
    "    test=test,\n",
    "    batch_size=batch_size,\n",
    "    n_epochs=n_epochs,\n",
    ")"
   ]
  },
  {
   "cell_type": "code",
   "execution_count": null,
   "metadata": {},
   "outputs": [],
   "source": [
    "plt.subplots(1, figsize=(8,6))\n",
    "plt.plot(range(n_epochs), ndcg_score_list_naive, label=\"Naive\", linewidth=3, linestyle=\"dashed\")\n",
    "plt.plot(range(n_epochs), ndcg_score_list_ips, label=\"IPS\", linewidth=3)\n",
    "   \n",
    "plt.title(\"Test nDCG@10 Curve With Different Estimators (via rec)\", fontdict=dict(size=15))\n",
    "plt.xlabel(\"Number Of Epochs\", fontdict=dict(size=20))\n",
    "plt.ylabel(\"Test nDCG@10\", fontdict=dict(size=20))\n",
    "plt.tight_layout()\n",
    "plt.legend(loc=\"best\", fontsize=20)\n",
    "plt.show()"
   ]
  }
 ],
 "metadata": {
  "language_info": {
   "name": "python"
  },
  "orig_nbformat": 4
 },
 "nbformat": 4,
 "nbformat_minor": 2
}
