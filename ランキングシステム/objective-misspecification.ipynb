{
 "cells": [
  {
   "cell_type": "markdown",
   "metadata": {},
   "source": [
    "# Objective Misspecification"
   ]
  },
  {
   "cell_type": "code",
   "execution_count": null,
   "metadata": {},
   "outputs": [],
   "source": [
    "import matplotlib.pyplot as plt\n",
    "plt.style.use('ggplot')\n",
    "import numpy as np\n",
    "import torch\n",
    "from torch.optim import Adam\n",
    "from pytorchltr.datasets import MSLR30K\n",
    "\n",
    "from model import MLPScoreFunc\n",
    "from train import train_ranker"
   ]
  },
  {
   "cell_type": "code",
   "execution_count": null,
   "metadata": {},
   "outputs": [],
   "source": [
    "# 実験設定\n",
    "batch_size = 32\n",
    "hidden_layer_sizes = (10,10)\n",
    "learning_rate = 0.0001\n",
    "n_epochs = 200"
   ]
  },
  {
   "cell_type": "code",
   "execution_count": null,
   "metadata": {},
   "outputs": [],
   "source": [
    "# MSLR30Kデータセットを読み込む（初回だけ時間がかかる）\n",
    "train = MSLR30K(split=\"train\")\n",
    "test = MSLR30K(split=\"test\")"
   ]
  },
  {
   "cell_type": "markdown",
   "metadata": {},
   "source": [
    "# ナイーブ推定量に基づくMLPRankerの学習"
   ]
  },
  {
   "cell_type": "code",
   "execution_count": null,
   "metadata": {},
   "outputs": [],
   "source": [
    "torch.manual_seed(12345)\n",
    "score_fn = MLPScoreFunc(\n",
    "    input_size=train[0].features.shape[1],\n",
    "    hidden_layer_sizes=hidden_layer_sizes,\n",
    ")\n",
    "optimizer = Adam(score_fn.parameters(), lr=learning_rate)\n",
    "\n",
    "ndcg_score_list_naive = train_ranker(\n",
    "    score_fn=score_fn,\n",
    "    optimizer=optimizer, \n",
    "    estimator=\"naive\",\n",
    "    objective=\"platform\",\n",
    "    train=train,\n",
    "    test=test,\n",
    "    batch_size=batch_size,\n",
    "    n_epochs=n_epochs,\n",
    ")"
   ]
  },
  {
   "cell_type": "markdown",
   "metadata": {},
   "source": [
    "# IPS推定量に基づくMLPRankerの学習"
   ]
  },
  {
   "cell_type": "markdown",
   "metadata": {},
   "source": [
    "torch.manual_seed(12345)\n",
    "score_fn = MLPScoreFunc(\n",
    "    input_size=train[0].features.shape[1],\n",
    "    hidden_layer_sizes=hidden_layer_sizes,\n",
    ")\n",
    "optimizer = Adam(score_fn.parameters(), lr=learning_rate)\n",
    "\n",
    "ndcg_score_list_ips = train_ranker(\n",
    "    score_fn=score_fn,\n",
    "    optimizer=optimizer,\n",
    "    estimator=\"ips-via-rec\",\n",
    "    objective=\"platform\",\n",
    "    train=train,\n",
    "    test=test,\n",
    "    batch_size=batch_size,\n",
    "    n_epochs=n_epochs,\n",
    ")"
   ]
  },
  {
   "cell_type": "markdown",
   "metadata": {},
   "source": [
    "# IPS推定量に基づくMLPRankerの学習"
   ]
  },
  {
   "cell_type": "code",
   "execution_count": null,
   "metadata": {},
   "outputs": [],
   "source": [
    "torch.manual_seed(12345)\n",
    "score_fn = MLPScoreFunc(\n",
    "    input_size=train[0].features.shape[1],\n",
    "    hidden_layer_sizes=hidden_layer_sizes,\n",
    ")\n",
    "optimizer = Adam(score_fn.parameters(), lr=learning_rate)\n",
    "\n",
    "ndcg_score_list_ips_platform = train_ranker(\n",
    "    score_fn=score_fn,\n",
    "    optimizer=optimizer,\n",
    "    estimator=\"ips-platform\",\n",
    "    objective=\"platform\",\n",
    "    train=train,\n",
    "    test=test,\n",
    "    batch_size=batch_size,\n",
    "    n_epochs=n_epochs,\n",
    ")"
   ]
  },
  {
   "cell_type": "code",
   "execution_count": null,
   "metadata": {},
   "outputs": [],
   "source": [
    "plt.subplots(1, figsize=(8,6))\n",
    "plt.plot(range(n_epochs), ndcg_score_list_naive, label=\"Naive\", linewidth=3, linestyle=\"dashed\")\n",
    "plt.plot(range(n_epochs), ndcg_score_list_ips, label=\"IPS(via-rec)\", linewidth=3, linestyle=\"dashdot\")\n",
    "plt.plot(range(n_epochs), ndcg_score_list_ips_platform, label=\"IPS(platform)\", linewidth=3)\n",
    "   \n",
    "plt.title(\"Test nDCG@10 Curve With Different Estimators (platform)\", fontdict=dict(size=15))\n",
    "plt.xlabel(\"Number of Epochs\", fontdict=dict(size=20))\n",
    "plt.ylabel(\"Test nDCG@10\", fontdict=dict(size=20))\n",
    "plt.tight_layout()\n",
    "plt.legend(loc=\"best\", fontsize=18)\n",
    "plt.show()"
   ]
  }
 ],
 "metadata": {
  "kernelspec": {
   "display_name": "Python 3.9.12 64-bit ('anaconda3')",
   "language": "python",
   "name": "python3"
  },
  "language_info": {
   "codemirror_mode": {
    "name": "ipython",
    "version": 3
   },
   "file_extension": ".py",
   "mimetype": "text/x-python",
   "name": "python",
   "nbconvert_exporter": "python",
   "pygments_lexer": "ipython3",
   "version": "3.9.12"
  },
  "orig_nbformat": 4,
  "vscode": {
   "interpreter": {
    "hash": "51e1f9c80926e68997560d230d07a499b2d98021768029f4b6ee7dff2d42bc0b"
   }
  }
 },
 "nbformat": 4,
 "nbformat_minor": 2
}
